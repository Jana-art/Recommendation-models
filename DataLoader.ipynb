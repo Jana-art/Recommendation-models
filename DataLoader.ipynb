{
 "cells": [
  {
   "cell_type": "code",
   "execution_count": 1,
   "metadata": {},
   "outputs": [
    {
     "ename": "SyntaxError",
     "evalue": "invalid syntax (<ipython-input-1-1a81f4734bcb>, line 18)",
     "output_type": "error",
     "traceback": [
      "\u001b[1;36m  File \u001b[1;32m\"<ipython-input-1-1a81f4734bcb>\"\u001b[1;36m, line \u001b[1;32m18\u001b[0m\n\u001b[1;33m    def load(df)\u001b[0m\n\u001b[1;37m                ^\u001b[0m\n\u001b[1;31mSyntaxError\u001b[0m\u001b[1;31m:\u001b[0m invalid syntax\n"
     ]
    }
   ],
   "source": [
    "from __future__ import (absolute_import, division, print_function,\n",
    "                        unicode_literals)\n",
    "from collections import defaultdict\n",
    "import sys\n",
    "import os\n",
    "import itertools\n",
    "\n",
    "from six.moves import input\n",
    "\n",
    "from .reader import Reader\n",
    "\n",
    "class DataLoader(self,df):\n",
    "    \n",
    "    def __init__(self,df=None):\n",
    "        \n",
    "        self.reader = reader\n",
    "        \n",
    "    def load(df)\n",
    "        df = df.load('df_metadata')\n",
    "        return df\n",
    "    \n",
    "    def delete(df)\n",
    "        df = []\n",
    "        \n",
    "        \n",
    "    def split(df,p)\n",
    "        \n",
    "        df_metadata[]\n",
    "               \n",
    "    "
   ]
  }
 ],
 "metadata": {
  "kernelspec": {
   "display_name": "Python 3",
   "language": "python",
   "name": "python3"
  },
  "language_info": {
   "codemirror_mode": {
    "name": "ipython",
    "version": 3
   },
   "file_extension": ".py",
   "mimetype": "text/x-python",
   "name": "python",
   "nbconvert_exporter": "python",
   "pygments_lexer": "ipython3",
   "version": "3.7.4"
  }
 },
 "nbformat": 4,
 "nbformat_minor": 2
}
